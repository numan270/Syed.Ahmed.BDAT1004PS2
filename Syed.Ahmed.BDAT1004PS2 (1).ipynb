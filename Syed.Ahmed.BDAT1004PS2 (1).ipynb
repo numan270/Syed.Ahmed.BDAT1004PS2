{
 "cells": [
  {
   "cell_type": "markdown",
   "id": "d9607afb",
   "metadata": {},
   "source": [
    "# Question 1"
   ]
  },
  {
   "cell_type": "markdown",
   "id": "a25227eb",
   "metadata": {},
   "source": [
    "## Question 2"
   ]
  },
  {
   "cell_type": "code",
   "execution_count": 1,
   "id": "dfe4e74f",
   "metadata": {},
   "outputs": [
    {
     "name": "stdout",
     "output_type": "stream",
     "text": [
      "File idterm.py not found.\n"
     ]
    }
   ],
   "source": [
    "#Question 2\n",
    "def fileLength(fileName):\n",
    "    try:\n",
    "        content = open(fileName).read()\n",
    "        length = len(content)\n",
    "        print(\"length is {name} is {length}\".format(name = fileName, length = length))\n",
    "    except FileNotFoundError:\n",
    "        print(\"File {} not found.\".format(fileName))\n",
    "        \n",
    "fileLength(\"idterm.py\")"
   ]
  },
  {
   "cell_type": "markdown",
   "id": "0708e167",
   "metadata": {},
   "source": [
    "# #Question 3"
   ]
  },
  {
   "cell_type": "code",
   "execution_count": null,
   "id": "cf62a508",
   "metadata": {},
   "outputs": [],
   "source": [
    "\n",
    "class Marsupial:\n",
    "    def __init__(self):\n",
    "        self.pouch = []\n",
    "    def put_in_pouch(self,data):\n",
    "        self.pouch.append(data)\n",
    "    def pouch_contents(self):\n",
    "        print(self.pouch)\n",
    "\n",
    "m = Marsupial()\n",
    "\n",
    "m.put_in_pouch('doll')\n",
    "m.put_in_pouch('firetruck')\n",
    "m.put_in_pouch('kitten')\n",
    "m.pouch_contents()"
   ]
  },
  {
   "cell_type": "code",
   "execution_count": 3,
   "id": "cece7ecd",
   "metadata": {},
   "outputs": [
    {
     "name": "stdout",
     "output_type": "stream",
     "text": [
      "I am a Kangaroo located at coordinates (0,0)\n",
      "['doll', 'firetruck', 'kitten']\n",
      "I am a Kangaroo located at coordinates (3,0)\n"
     ]
    }
   ],
   "source": [
    "class Kangaroo(Marsupial):\n",
    "    \n",
    "    def __init__(self, x, y):\n",
    "        super().__init__()\n",
    "        self.cX = x\n",
    "        self.cY = y \n",
    "        \n",
    "    def jump(self, x, y):\n",
    "        self.cX += x\n",
    "        self.cY += y\n",
    "        \n",
    "    def __str__(self):\n",
    "        return f\"I am a Kangaroo located at coordinates ({self.cX},{self.cY})\"\n",
    "        \n",
    "k = Kangaroo(0,0)\n",
    "print(k)\n",
    "k.put_in_pouch('doll')\n",
    "k.put_in_pouch('firetruck')\n",
    "k.put_in_pouch('kitten')\n",
    "k.pouch_contents()\n",
    "k.jump(1,0)\n",
    "k.jump(1,0)\n",
    "k.jump(1,0)\n",
    "print(k)"
   ]
  },
  {
   "cell_type": "markdown",
   "id": "09b151d3",
   "metadata": {},
   "source": [
    "## Question 4"
   ]
  },
  {
   "cell_type": "code",
   "execution_count": 4,
   "id": "051c670d",
   "metadata": {},
   "outputs": [
    {
     "name": "stdout",
     "output_type": "stream",
     "text": [
      "10\n",
      "5\n",
      "16\n",
      "8\n",
      "4\n",
      "2\n",
      "1\n"
     ]
    }
   ],
   "source": [
    "def collatz(n):\n",
    "    if n == 1:\n",
    "        print(n)\n",
    "    elif n % 2 == 0:\n",
    "        print(n)\n",
    "        collatz(n//2)\n",
    "    else:\n",
    "        print(n)\n",
    "        collatz((n * 3) + 1)\n",
    "collatz(10)"
   ]
  },
  {
   "cell_type": "markdown",
   "id": "6ba992f8",
   "metadata": {},
   "source": [
    "# Question 5"
   ]
  },
  {
   "cell_type": "code",
   "execution_count": null,
   "id": "f9c3004d",
   "metadata": {},
   "outputs": [
    {
     "name": "stdout",
     "output_type": "stream",
     "text": [
      "binary : 0\n",
      "0\n",
      "binary : 1\n",
      "1\n",
      "binary : 3\n",
      "11\n",
      "binary : 9\n",
      "1001\n"
     ]
    }
   ],
   "source": [
    "def binary():\n",
    "    try:\n",
    "        inputValue = int(input('binary : '))\n",
    "        if inputValue >= 0:\n",
    "            print(f'{inputValue:0b}')\n",
    "            binary()\n",
    "        else:\n",
    "            print(\"Negative number!! please enter non-negative number\")\n",
    "            binary()\n",
    "    except:\n",
    "        print(\"Error!\")\n",
    "binary()"
   ]
  },
  {
   "cell_type": "markdown",
   "id": "263c758e",
   "metadata": {},
   "source": [
    "## Question 6"
   ]
  },
  {
   "cell_type": "code",
   "execution_count": 15,
   "id": "309992b8",
   "metadata": {},
   "outputs": [
    {
     "name": "stdout",
     "output_type": "stream",
     "text": [
      "W3C Mission\n",
      "\tPrinciples\n"
     ]
    }
   ],
   "source": [
    "\n",
    "from html.parser import HTMLParser\n",
    "\n",
    "class HeadingParser(HTMLParser):\n",
    "    h1Found = False\n",
    "    h2Found = False\n",
    "    def handle_starttag(self, tag, attrs):\n",
    "        if tag == \"h1\":\n",
    "            self.h1Found = True\n",
    "        elif tag == \"h2\":\n",
    "            self.h2Found = True\n",
    "    def handle_data(self, data):\n",
    "        if self.h1Found:\n",
    "            print(data)\n",
    "        if self.h2Found:\n",
    "            print('\\t'*1 + data)\n",
    "    def handle_endtag(self, tag):\n",
    "        if tag ==\"h1\":\n",
    "            self.h1Found = False\n",
    "        elif tag == \"h2\":\n",
    "            self.h2Found = False\n",
    "\n",
    "hp = HeadingParser()\n",
    "file = open('w3c.html')\n",
    "html = file.read()\n",
    "file.close()\n",
    "hp.feed(html)"
   ]
  },
  {
   "cell_type": "markdown",
   "id": "26e3b4c3",
   "metadata": {},
   "source": [
    "## Question 7"
   ]
  },
  {
   "cell_type": "code",
   "execution_count": 7,
   "id": "7b01274d",
   "metadata": {},
   "outputs": [
    {
     "name": "stdout",
     "output_type": "stream",
     "text": [
      "http://reed.cs.depaul.edu/lperkovic/csc242/test1.html\n",
      " http://reed.cs.depaul.edu/lperkovic/csc242/test1.html\n",
      "  http://reed.cs.depaul.edu/lperkovic/csc242/test1.html\n"
     ]
    }
   ],
   "source": [
    "def webdir(url, depth, indent): \n",
    "    if depth == 0:\n",
    "        print(indent*\" \"+url)\n",
    "        return \n",
    "    else:\n",
    "        print(indent*\" \"+url) \n",
    "        webdir(url, depth-1, indent+1)\n",
    "webdir('http://reed.cs.depaul.edu/lperkovic/csc242/test1.html', 2, 0)"
   ]
  },
  {
   "cell_type": "markdown",
   "id": "8cd3f49c",
   "metadata": {},
   "source": [
    "## Question 8"
   ]
  },
  {
   "cell_type": "code",
   "execution_count": 17,
   "id": "b26e33eb",
   "metadata": {},
   "outputs": [
    {
     "data": {
      "text/plain": [
       "<sqlite3.Cursor at 0x25b435951f0>"
      ]
     },
     "execution_count": 17,
     "metadata": {},
     "output_type": "execute_result"
    }
   ],
   "source": [
    "\n",
    "import sqlite3\n",
    "con=sqlite3.connect('GlobalData.db')\n",
    "cur=con.cursor()\n",
    "cur.execute('create table World(City text,Country text,Season text,Temprature FLOAT,Rainfall FLOAT );');\n",
    "cur.execute('INSERT INTO World(City,Country,Season,Temprature,Rainfall) VALUES(\"Mumbai\",\"India\",\"Winter\",24.8,5.9);')\n",
    "cur.execute('INSERT INTO World(City,Country,Season,Temprature,Rainfall) VALUES(\"Mumbai\",\"India\",\"Spring\",28.4,16.2);')\n",
    "cur.execute('INSERT INTO World(City,Country,Season,Temprature,Rainfall) VALUES(\"Mumbai\",\"India\",\"Summer\",27.9,1549.4);')\n",
    "cur.execute('INSERT INTO World(City,Country,Season,Temprature,Rainfall) VALUES(\"Mumbai\",\"India\",\"Fall\",27.6,346.0);')\n",
    "\n",
    "cur.execute('INSERT INTO World(City,Country,Season,Temprature,Rainfall) VALUES(\"London\",\"United Kingdom\",\"Winter\",4.2,207.7);')\n",
    "cur.execute('INSERT INTO World(City,Country,Season,Temprature,Rainfall) VALUES(\"London\",\"United Kingdom\",\"Spring\",8.3,169.6);')\n",
    "cur.execute('INSERT INTO World(City,Country,Season,Temprature,Rainfall) VALUES(\"London\",\"United Kingdom\",\"Summer\",15.7,157.0);')\n",
    "cur.execute('INSERT INTO World(City,Country,Season,Temprature,Rainfall) VALUES(\"London\",\"United Kingdom\",\"Fall\",10.4,218.5);')\n",
    "\n",
    "cur.execute('INSERT INTO World(City,Country,Season,Temprature,Rainfall) VALUES(\"Cairo\",\"Egypt\",\"Winter\",13.6,16.5);')\n",
    "cur.execute('INSERT INTO World(City,Country,Season,Temprature,Rainfall) VALUES(\"Cairo\",\"Egypt\",\"Spring\",20.7,6.5);')\n",
    "cur.execute('INSERT INTO World(City,Country,Season,Temprature,Rainfall) VALUES(\"Cairo\",\"Egypt\",\"Summer\",27.7,0.1);')\n",
    "cur.execute('INSERT INTO World(City,Country,Season,Temprature,Rainfall) VALUES(\"Cairo\",\"Egypt\",\"Fall\",22.2,4.5);')"
   ]
  },
  {
   "cell_type": "code",
   "execution_count": 18,
   "id": "9bb51fd6",
   "metadata": {},
   "outputs": [
    {
     "name": "stdout",
     "output_type": "stream",
     "text": [
      "(24.8,)\n",
      "(28.4,)\n",
      "(27.9,)\n",
      "(27.6,)\n",
      "(4.2,)\n",
      "(8.3,)\n",
      "(15.7,)\n",
      "(10.4,)\n",
      "(13.6,)\n",
      "(20.7,)\n",
      "(27.7,)\n",
      "(22.2,)\n"
     ]
    }
   ],
   "source": [
    "#8.a\n",
    "for row in cur.execute('SELECT Temprature FROM World;'):\n",
    "    print(row)"
   ]
  },
  {
   "cell_type": "code",
   "execution_count": 19,
   "id": "1946701a",
   "metadata": {},
   "outputs": [
    {
     "name": "stdout",
     "output_type": "stream",
     "text": [
      "('Mumbai',)\n",
      "('London',)\n",
      "('Cairo',)\n"
     ]
    }
   ],
   "source": [
    "#8.b\n",
    "for row in cur.execute('SELECT DISTINCT City FROM World;'):\n",
    "    print(row)"
   ]
  },
  {
   "cell_type": "code",
   "execution_count": 20,
   "id": "8a55e0a2",
   "metadata": {},
   "outputs": [
    {
     "name": "stdout",
     "output_type": "stream",
     "text": [
      "('Mumbai', 'India', 'Winter', 24.8, 5.9)\n",
      "('Mumbai', 'India', 'Spring', 28.4, 16.2)\n",
      "('Mumbai', 'India', 'Summer', 27.9, 1549.4)\n",
      "('Mumbai', 'India', 'Fall', 27.6, 346.0)\n"
     ]
    }
   ],
   "source": [
    "#8.c\n",
    "for row in cur.execute('SELECT * FROM World WHERE Country = \"India\";'):\n",
    "    print(row)"
   ]
  },
  {
   "cell_type": "code",
   "execution_count": 21,
   "id": "7349911a",
   "metadata": {},
   "outputs": [
    {
     "name": "stdout",
     "output_type": "stream",
     "text": [
      "('Mumbai', 'India', 'Fall', 27.6, 346.0)\n",
      "('London', 'United Kingdom', 'Fall', 10.4, 218.5)\n",
      "('Cairo', 'Egypt', 'Fall', 22.2, 4.5)\n"
     ]
    }
   ],
   "source": [
    "#8.d\n",
    "for row in cur.execute('SELECT * FROM World WHERE Season = \"Fall\";'):\n",
    "    print(row)"
   ]
  },
  {
   "cell_type": "code",
   "execution_count": 22,
   "id": "58ea8a9e",
   "metadata": {},
   "outputs": [
    {
     "name": "stdout",
     "output_type": "stream",
     "text": [
      "('Mumbai', 'India', 'Fall')\n",
      "('London', 'United Kingdom', 'Winter')\n",
      "('London', 'United Kingdom', 'Fall')\n"
     ]
    }
   ],
   "source": [
    "#8.e\n",
    "for row in cur.execute('SELECT City,Country,Season FROM World WHERE Rainfall BETWEEN 200 AND 400;'):\n",
    "    print(row)"
   ]
  },
  {
   "cell_type": "code",
   "execution_count": 23,
   "id": "287b24d5",
   "metadata": {},
   "outputs": [
    {
     "name": "stdout",
     "output_type": "stream",
     "text": [
      "('Cairo', 'Egypt')\n",
      "('Mumbai', 'India')\n"
     ]
    }
   ],
   "source": [
    "#8.f\n",
    "for row in cur.execute('SELECT City,Country FROM World WHERE Season = \"Fall\" AND Temprature > 20 ORDER BY Temprature;'):\n",
    "    print(row)"
   ]
  },
  {
   "cell_type": "code",
   "execution_count": 24,
   "id": "162887e4",
   "metadata": {},
   "outputs": [
    {
     "name": "stdout",
     "output_type": "stream",
     "text": [
      "(27.6,)\n"
     ]
    }
   ],
   "source": [
    "#8.g\n",
    "for row in cur.execute('SELECT SUM(Rainfall) FROM World WHERE City = \"Cairo\";'):\n",
    "    print(row)"
   ]
  },
  {
   "cell_type": "code",
   "execution_count": 25,
   "id": "51521996",
   "metadata": {},
   "outputs": [
    {
     "name": "stdout",
     "output_type": "stream",
     "text": [
      "('Fall', 569.0)\n",
      "('Spring', 192.29999999999998)\n",
      "('Summer', 1706.5)\n",
      "('Winter', 230.1)\n"
     ]
    }
   ],
   "source": [
    "#8.h\n",
    "for row in cur.execute('SELECT Season, SUM(Rainfall) FROM World GROUP BY Season;'):\n",
    "    print(row)"
   ]
  },
  {
   "cell_type": "markdown",
   "id": "49f29b86",
   "metadata": {},
   "source": [
    "## Question 9"
   ]
  },
  {
   "cell_type": "code",
   "execution_count": 26,
   "id": "d8a05bd2",
   "metadata": {},
   "outputs": [],
   "source": [
    "words = ['The', 'quick', 'brown', 'fox', 'jumps', 'over', 'the', 'lazy', 'dog']"
   ]
  },
  {
   "cell_type": "code",
   "execution_count": 27,
   "id": "b1af751e",
   "metadata": {},
   "outputs": [
    {
     "name": "stdout",
     "output_type": "stream",
     "text": [
      "['THE', 'QUICK', 'BROWN', 'FOX', 'JUMPS', 'OVER', 'THE', 'LAZY', 'DOG']\n"
     ]
    }
   ],
   "source": [
    "#9.a\n",
    "list1 = [w.upper() for w in words]\n",
    "print(list1)"
   ]
  },
  {
   "cell_type": "code",
   "execution_count": 28,
   "id": "aab1b330",
   "metadata": {},
   "outputs": [
    {
     "name": "stdout",
     "output_type": "stream",
     "text": [
      "['the', 'quick', 'brown', 'fox', 'jumps', 'over', 'the', 'lazy', 'dog']\n"
     ]
    }
   ],
   "source": [
    "#9.b\n",
    "list2 = [w.lower() for w in words]\n",
    "print(list2)"
   ]
  },
  {
   "cell_type": "code",
   "execution_count": 29,
   "id": "c12fff37",
   "metadata": {},
   "outputs": [
    {
     "name": "stdout",
     "output_type": "stream",
     "text": [
      "[3, 5, 5, 3, 5, 4, 3, 4, 3]\n"
     ]
    }
   ],
   "source": [
    "#9.c\n",
    "list3 = [len(w) for w in words]\n",
    "print(list3)"
   ]
  },
  {
   "cell_type": "code",
   "execution_count": 30,
   "id": "ec8820a5",
   "metadata": {},
   "outputs": [
    {
     "name": "stdout",
     "output_type": "stream",
     "text": [
      "[['THE', 'the', 3], ['QUICK', 'quick', 5], ['BROWN', 'brown', 5], ['FOX', 'fox', 3], ['JUMPS', 'jumps', 5], ['OVER', 'over', 4], ['THE', 'the', 3], ['LAZY', 'lazy', 4], ['DOG', 'dog', 3]]\n"
     ]
    }
   ],
   "source": [
    "#9.d\n",
    "list4 = [[w.upper(),w.lower(),len(w) ] for w in words]\n",
    "print(list4)"
   ]
  },
  {
   "cell_type": "code",
   "execution_count": 31,
   "id": "c3e6040f",
   "metadata": {},
   "outputs": [
    {
     "name": "stdout",
     "output_type": "stream",
     "text": [
      "['quick', 'brown', 'jumps', 'over', 'lazy']\n"
     ]
    }
   ],
   "source": [
    "#9.e\n",
    "list5 = [w for w in words if len(w) >= 4]\n",
    "print(list5)"
   ]
  }
 ],
 "metadata": {
  "kernelspec": {
   "display_name": "Python 3 (ipykernel)",
   "language": "python",
   "name": "python3"
  },
  "language_info": {
   "codemirror_mode": {
    "name": "ipython",
    "version": 3
   },
   "file_extension": ".py",
   "mimetype": "text/x-python",
   "name": "python",
   "nbconvert_exporter": "python",
   "pygments_lexer": "ipython3",
   "version": "3.9.12"
  }
 },
 "nbformat": 4,
 "nbformat_minor": 5
}
